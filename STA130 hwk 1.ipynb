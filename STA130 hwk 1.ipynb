{
 "cells": [
  {
   "cell_type": "code",
   "execution_count": 1,
   "id": "9e9d3840",
   "metadata": {},
   "outputs": [
    {
     "data": {
      "text/plain": [
       "row_n           0\n",
       "id              1\n",
       "name            0\n",
       "gender          0\n",
       "species         0\n",
       "birthday        0\n",
       "personality     0\n",
       "song           11\n",
       "phrase          0\n",
       "full_id         0\n",
       "url             0\n",
       "dtype: int64"
      ]
     },
     "execution_count": 1,
     "metadata": {},
     "output_type": "execute_result"
    }
   ],
   "source": [
    "import pandas as pd\n",
    "url = \"https://raw.githubusercontent.com/rfordatascience/tidytuesday/master/data/2020/2020-05-05/villagers.csv\"\n",
    "df = pd.read_csv(url)\n",
    "df.isna().sum()"
   ]
  },
  {
   "cell_type": "code",
   "execution_count": 3,
   "id": "c6c74c6f",
   "metadata": {},
   "outputs": [
    {
     "name": "stdout",
     "output_type": "stream",
     "text": [
      "Number of rows: 391\n",
      "Number of columns: 11\n"
     ]
    }
   ],
   "source": [
    "rows, columns = df.shape\n",
    "print(f\"Number of rows: {rows}\")\n",
    "print(f\"Number of columns: {columns}\")"
   ]
  },
  {
   "cell_type": "code",
   "execution_count": 4,
   "id": "d4796612",
   "metadata": {},
   "outputs": [
    {
     "name": "stdout",
     "output_type": "stream",
     "text": [
      "            row_n\n",
      "count  391.000000\n",
      "mean   239.902813\n",
      "std    140.702672\n",
      "min      2.000000\n",
      "25%    117.500000\n",
      "50%    240.000000\n",
      "75%    363.500000\n",
      "max    483.000000\n"
     ]
    }
   ],
   "source": [
    "#2.2 - An observation is a single row in a dataset, representing an individual instance or case. In the context of the dataset, each observation refers to a unique Animal Crossing character (villager). Each row in the dataset provides specific details about one villager, including attributes like their name, gender, personality, and other characteristics.\n",
    "# A variable is a single column in a dataset. Variables show the characteristics or attributes that are recorded or described for each observation. In the context of the dataset, each variable provides specific information about a villager. Examples of the variables include: name - the villager's name, species - the type of animal they are, personality - their personality type etc.\n",
    "\n",
    "summary = df.describe()\n",
    "print(summary)"
   ]
  },
  {
   "cell_type": "code",
   "execution_count": 5,
   "id": "385caf2c",
   "metadata": {},
   "outputs": [
    {
     "name": "stdout",
     "output_type": "stream",
     "text": [
      "species\n",
      "cat          23\n",
      "rabbit       20\n",
      "frog         18\n",
      "squirrel     18\n",
      "duck         17\n",
      "dog          16\n",
      "cub          16\n",
      "pig          15\n",
      "bear         15\n",
      "mouse        15\n",
      "horse        15\n",
      "bird         13\n",
      "penguin      13\n",
      "sheep        13\n",
      "elephant     11\n",
      "wolf         11\n",
      "ostrich      10\n",
      "deer         10\n",
      "eagle         9\n",
      "gorilla       9\n",
      "chicken       9\n",
      "koala         9\n",
      "goat          8\n",
      "hamster       8\n",
      "kangaroo      8\n",
      "monkey        8\n",
      "anteater      7\n",
      "hippo         7\n",
      "tiger         7\n",
      "alligator     7\n",
      "lion          7\n",
      "bull          6\n",
      "rhino         6\n",
      "cow           4\n",
      "octopus       3\n",
      "Name: count, dtype: int64\n"
     ]
    }
   ],
   "source": [
    "species_counts = df['species'].value_counts()\n",
    "print(species_counts)"
   ]
  },
  {
   "cell_type": "code",
   "execution_count": 6,
   "id": "b775aeda",
   "metadata": {},
   "outputs": [
    {
     "data": {
      "text/plain": [
       "survived         0\n",
       "pclass           0\n",
       "sex              0\n",
       "age            177\n",
       "sibsp            0\n",
       "parch            0\n",
       "fare             0\n",
       "embarked         2\n",
       "class            0\n",
       "who              0\n",
       "adult_male       0\n",
       "deck           688\n",
       "embark_town      2\n",
       "alive            0\n",
       "alone            0\n",
       "dtype: int64"
      ]
     },
     "execution_count": 6,
     "metadata": {},
     "output_type": "execute_result"
    }
   ],
   "source": [
    "import pandas as pd\n",
    "url = \"https://raw.githubusercontent.com/mwaskom/seaborn-data/master/titanic.csv\"\n",
    "df = pd.read_csv(url)\n",
    "df.isna().sum()"
   ]
  },
  {
   "cell_type": "code",
   "execution_count": 7,
   "id": "0276d12a",
   "metadata": {},
   "outputs": [
    {
     "name": "stdout",
     "output_type": "stream",
     "text": [
      "survived         0\n",
      "pclass           0\n",
      "sex              0\n",
      "age            177\n",
      "sibsp            0\n",
      "parch            0\n",
      "fare             0\n",
      "embarked         2\n",
      "class            0\n",
      "who              0\n",
      "adult_male       0\n",
      "deck           688\n",
      "embark_town      2\n",
      "alive            0\n",
      "alone            0\n",
      "dtype: int64\n"
     ]
    }
   ],
   "source": [
    "# For the Titanic dataset, the differences between the dataset size shown by df.shape and what is reported by df.describe() can be clarified as follows:\n",
    "# Number of Columns Analyzed:\n",
    "# df.shape:\n",
    "# Reports the total number of columns in the dataset, regardless of their data type (numeric or non-numeric).\n",
    "# df.describe():\n",
    "# By default, summarizes only numeric columns. Therefore, if the dataset contains categorical or non-numeric columns (such as 'sex', 'class', 'embarked'), these will not be included in the default summary. To include all columns, use df.describe(include='all'), which provides statistics for both numeric and non-numeric columns.\n",
    "# Values in the 'Count' Column:\n",
    "# df.shape:\n",
    "# Shows the total number of rows in the dataset, without considering missing values.\n",
    "# df.describe():\n",
    "# The 'count' column represents the number of non-missing entries for each column. For columns with missing values, the 'count' will be less than the total number of rows. This is because df.describe() only counts the entries that are not missing.\n"
   ]
  },
  {
   "cell_type": "code",
   "execution_count": 8,
   "id": "3e860e36",
   "metadata": {},
   "outputs": [
    {
     "name": "stdout",
     "output_type": "stream",
     "text": [
      "Missing values before cleaning:\n",
      "survived         0\n",
      "pclass           0\n",
      "sex              0\n",
      "age            177\n",
      "sibsp            0\n",
      "parch            0\n",
      "fare             0\n",
      "embarked         2\n",
      "class            0\n",
      "who              0\n",
      "adult_male       0\n",
      "deck           688\n",
      "embark_town      2\n",
      "alive            0\n",
      "alone            0\n",
      "dtype: int64\n"
     ]
    }
   ],
   "source": [
    "# Attributes provide direct access to a property or value of an object and are accessed without parentheses. For instance, df.shape directly shows the dimensions of the DataFrame.\n",
    "# Methods perform operations or computations on the object and return results. They require parentheses to be called, even if no arguments are needed. For example, df.describe() generates and returns a statistical summary of the DataFrame.\n",
    "\n",
    "# Count: The number of non-missing values in a dataset.\n",
    "# Mean: The average value, calculated by summing all values and dividing by the count.\n",
    "# Standard Deviation: A measure of how spread out the values are from the mean.\n",
    "# Min: The smallest value in the dataset.\n",
    "# 25%: The first quartile; the value below which 25% of the data falls.\n",
    "# 50%: The median; the middle value that separates the higher half from the lower half of the data.\n",
    "# 75%: The third quartile; the value below which 75% of the data falls.\n",
    "# Max: The largest value in the dataset.\n",
    "\n",
    "#7 i) df.dropna(): used to remove rows or columns with missing values, cleaning the data while preserving the structure and all remaining columns.\n",
    "# del df['col']: used to completely remove a specific column from the DataFrame, regardless of its content.\n",
    "# One might use df.dropna() over def df['col'] in the case of surveys. df.dropna() can remove blank responses compared df['col'] which may delete data and potentially hinder the results of the results of the survey.\n",
    "# ii) One might use def df['col'] over df.dropna() in the case of back up emails. The column may be mostly empty and are not the primary contact emails for individuals so it may be more efficient to completely delete the column.\n",
    "# iii) Reduce Computational Load - Removing unnecessary columns with del df['col'] first makes df.dropna() more efficient by reducing the data it needs to process.\n",
    "# Simplify Data Cleaning - Deleting irrelevant columns ensures df.dropna() only handles important columns, streamlining the data cleaning process.\n",
    "# Prevent Unintended Data Loss - Removing irrelevant columns first avoids the risk of losing rows with useful data due to missing values in those irrelevant columns.\n",
    "# iv) \n",
    "\n",
    "import pandas as pd\n",
    "\n",
    "# Load the Titanic dataset\n",
    "url = \"https://raw.githubusercontent.com/mwaskom/seaborn-data/master/titanic.csv\"\n",
    "titanic_df = pd.read_csv(url)\n",
    "\n",
    "# Inspect missing values (before)\n",
    "print(\"Missing values before cleaning:\")\n",
    "print(titanic_df.isnull().sum())"
   ]
  },
  {
   "cell_type": "code",
   "execution_count": 10,
   "id": "070831be",
   "metadata": {},
   "outputs": [
    {
     "name": "stdout",
     "output_type": "stream",
     "text": [
      "Missing values after removing irrelevant columns:\n",
      "survived       0\n",
      "pclass         0\n",
      "sex            0\n",
      "sibsp          0\n",
      "parch          0\n",
      "fare           0\n",
      "embarked       2\n",
      "class          0\n",
      "who            0\n",
      "adult_male     0\n",
      "embark_town    2\n",
      "alive          0\n",
      "alone          0\n",
      "dtype: int64\n"
     ]
    }
   ],
   "source": [
    "# Remove irrelevant columns\n",
    "del titanic_df['age']\n",
    "del titanic_df['deck']\n",
    "\n",
    "# Inspect the dataset after removing columns (after)\n",
    "print(\"Missing values after removing irrelevant columns:\")\n",
    "print(titanic_df.isnull().sum())"
   ]
  },
  {
   "cell_type": "code",
   "execution_count": 14,
   "id": "cef3a283",
   "metadata": {},
   "outputs": [
    {
     "name": "stdout",
     "output_type": "stream",
     "text": [
      "Index(['row_n', 'id', 'name', 'gender', 'species', 'birthday', 'personality',\n",
      "       'song', 'phrase', 'full_id', 'url'],\n",
      "      dtype='object')\n",
      "   row_n       id     name  gender    species birthday personality  \\\n",
      "0      2  admiral  Admiral    male       bird     1-27      cranky   \n",
      "1      3  agent-s  Agent S  female   squirrel      7-2       peppy   \n",
      "2      4    agnes    Agnes  female        pig     4-21        uchi   \n",
      "3      6       al       Al    male    gorilla    10-18        lazy   \n",
      "4      7  alfonso  Alfonso    male  alligator      6-9        lazy   \n",
      "\n",
      "          song    phrase           full_id  \\\n",
      "0   Steep Hill   aye aye  villager-admiral   \n",
      "1      DJ K.K.  sidekick  villager-agent-s   \n",
      "2   K.K. House   snuffle    villager-agnes   \n",
      "3   Steep Hill   Ayyeeee       villager-al   \n",
      "4  Forest Life  it'sa me  villager-alfonso   \n",
      "\n",
      "                                                 url  \n",
      "0  https://villagerdb.com/images/villagers/thumb/...  \n",
      "1  https://villagerdb.com/images/villagers/thumb/...  \n",
      "2  https://villagerdb.com/images/villagers/thumb/...  \n",
      "3  https://villagerdb.com/images/villagers/thumb/...  \n",
      "4  https://villagerdb.com/images/villagers/thumb/...  \n"
     ]
    },
    {
     "data": {
      "text/html": [
       "<div>\n",
       "<style scoped>\n",
       "    .dataframe tbody tr th:only-of-type {\n",
       "        vertical-align: middle;\n",
       "    }\n",
       "\n",
       "    .dataframe tbody tr th {\n",
       "        vertical-align: top;\n",
       "    }\n",
       "\n",
       "    .dataframe thead th {\n",
       "        text-align: right;\n",
       "    }\n",
       "</style>\n",
       "<table border=\"1\" class=\"dataframe\">\n",
       "  <thead>\n",
       "    <tr style=\"text-align: right;\">\n",
       "      <th></th>\n",
       "      <th>count</th>\n",
       "      <th>unique</th>\n",
       "      <th>top</th>\n",
       "      <th>freq</th>\n",
       "    </tr>\n",
       "    <tr>\n",
       "      <th>name</th>\n",
       "      <th></th>\n",
       "      <th></th>\n",
       "      <th></th>\n",
       "      <th></th>\n",
       "    </tr>\n",
       "  </thead>\n",
       "  <tbody>\n",
       "    <tr>\n",
       "      <th>Admiral</th>\n",
       "      <td>1</td>\n",
       "      <td>1</td>\n",
       "      <td>male</td>\n",
       "      <td>1</td>\n",
       "    </tr>\n",
       "    <tr>\n",
       "      <th>Agent S</th>\n",
       "      <td>1</td>\n",
       "      <td>1</td>\n",
       "      <td>female</td>\n",
       "      <td>1</td>\n",
       "    </tr>\n",
       "    <tr>\n",
       "      <th>Agnes</th>\n",
       "      <td>1</td>\n",
       "      <td>1</td>\n",
       "      <td>female</td>\n",
       "      <td>1</td>\n",
       "    </tr>\n",
       "    <tr>\n",
       "      <th>Al</th>\n",
       "      <td>1</td>\n",
       "      <td>1</td>\n",
       "      <td>male</td>\n",
       "      <td>1</td>\n",
       "    </tr>\n",
       "    <tr>\n",
       "      <th>Alfonso</th>\n",
       "      <td>1</td>\n",
       "      <td>1</td>\n",
       "      <td>male</td>\n",
       "      <td>1</td>\n",
       "    </tr>\n",
       "    <tr>\n",
       "      <th>...</th>\n",
       "      <td>...</td>\n",
       "      <td>...</td>\n",
       "      <td>...</td>\n",
       "      <td>...</td>\n",
       "    </tr>\n",
       "    <tr>\n",
       "      <th>Winnie</th>\n",
       "      <td>1</td>\n",
       "      <td>1</td>\n",
       "      <td>female</td>\n",
       "      <td>1</td>\n",
       "    </tr>\n",
       "    <tr>\n",
       "      <th>Wolfgang</th>\n",
       "      <td>1</td>\n",
       "      <td>1</td>\n",
       "      <td>male</td>\n",
       "      <td>1</td>\n",
       "    </tr>\n",
       "    <tr>\n",
       "      <th>Yuka</th>\n",
       "      <td>1</td>\n",
       "      <td>1</td>\n",
       "      <td>female</td>\n",
       "      <td>1</td>\n",
       "    </tr>\n",
       "    <tr>\n",
       "      <th>Zell</th>\n",
       "      <td>1</td>\n",
       "      <td>1</td>\n",
       "      <td>male</td>\n",
       "      <td>1</td>\n",
       "    </tr>\n",
       "    <tr>\n",
       "      <th>Zucker</th>\n",
       "      <td>1</td>\n",
       "      <td>1</td>\n",
       "      <td>male</td>\n",
       "      <td>1</td>\n",
       "    </tr>\n",
       "  </tbody>\n",
       "</table>\n",
       "<p>391 rows × 4 columns</p>\n",
       "</div>"
      ],
      "text/plain": [
       "         count unique     top freq\n",
       "name                              \n",
       "Admiral      1      1    male    1\n",
       "Agent S      1      1  female    1\n",
       "Agnes        1      1  female    1\n",
       "Al           1      1    male    1\n",
       "Alfonso      1      1    male    1\n",
       "...        ...    ...     ...  ...\n",
       "Winnie       1      1  female    1\n",
       "Wolfgang     1      1    male    1\n",
       "Yuka         1      1  female    1\n",
       "Zell         1      1    male    1\n",
       "Zucker       1      1    male    1\n",
       "\n",
       "[391 rows x 4 columns]"
      ]
     },
     "execution_count": 14,
     "metadata": {},
     "output_type": "execute_result"
    }
   ],
   "source": [
    "# First chatgpt summary = \"https://chatgpt.com/c/66e3afee-aef4-8007-934a-dda31ab4c094\"\n",
    "\n",
    "#8\n",
    "\n",
    "import pandas as pd\n",
    "\n",
    "url = \"https://raw.githubusercontent.com/rfordatascience/tidytuesday/master/data/2020/2020-05-05/villagers.csv\"\n",
    "df = pd.read_csv(url)\n",
    "print(df.columns)\n",
    "print(df.head())\n",
    "df.groupby(\"name\")[\"gender\"].describe()"
   ]
  },
  {
   "cell_type": "code",
   "execution_count": 15,
   "id": "4b51623b",
   "metadata": {},
   "outputs": [],
   "source": [
    "# The count in df.describe() gives a broad view of missing data across the entire DataFrame, while the count in df.groupby(\"col1\")[\"col2\"].describe() provides insights into missing data within specific groups."
   ]
  },
  {
   "cell_type": "code",
   "execution_count": 18,
   "id": "b326d271",
   "metadata": {},
   "outputs": [
    {
     "data": {
      "text/plain": [
       "row_n           0\n",
       "id              1\n",
       "name            0\n",
       "gender          0\n",
       "species         0\n",
       "birthday        0\n",
       "personality     0\n",
       "song           11\n",
       "phrase          0\n",
       "full_id         0\n",
       "url             0\n",
       "dtype: int64"
      ]
     },
     "execution_count": 18,
     "metadata": {},
     "output_type": "execute_result"
    }
   ],
   "source": [
    "# A: chatgpt B: chatgpt C: chatgpt D: chatgpt E: chatgpt F: chatgpt G: chatgpt"
   ]
  },
  {
   "cell_type": "code",
   "execution_count": null,
   "id": "ff867e2c",
   "metadata": {},
   "outputs": [],
   "source": [
    "# 9. somewhat\n",
    "\n",
    "# Chatgpt conversation link 2 = \"https://chatgpt.com/c/66e3b303-a53c-8007-90bd-029d99543e0d\""
   ]
  }
 ],
 "metadata": {
  "kernelspec": {
   "display_name": "Python 3 (ipykernel)",
   "language": "python",
   "name": "python3"
  },
  "language_info": {
   "codemirror_mode": {
    "name": "ipython",
    "version": 3
   },
   "file_extension": ".py",
   "mimetype": "text/x-python",
   "name": "python",
   "nbconvert_exporter": "python",
   "pygments_lexer": "ipython3",
   "version": "3.11.6"
  }
 },
 "nbformat": 4,
 "nbformat_minor": 5
}
